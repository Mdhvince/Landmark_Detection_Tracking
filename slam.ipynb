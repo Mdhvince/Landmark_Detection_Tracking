{
 "cells": [
  {
   "cell_type": "code",
   "execution_count": 1,
   "metadata": {},
   "outputs": [],
   "source": [
    "import numpy as np\n",
    "from helpers import make_data\n",
    "import matplotlib.pyplot as plt\n",
    "from pandas import DataFrame\n",
    "import seaborn as sns\n",
    "from helpers import display_world\n",
    "\n",
    "%matplotlib inline"
   ]
  },
  {
   "cell_type": "code",
   "execution_count": 2,
   "metadata": {},
   "outputs": [],
   "source": [
    "def initialize_constraints(N, num_landmarks, world_size):\n",
    "    ''' This function takes in a number of time steps N, number of landmarks, and a world_size,\n",
    "        and returns initialized constraint matrices, omega and xi.'''\n",
    "    \n",
    "    rows = 2*N + 2*num_landmarks\n",
    "    cols = rows\n",
    "    \n",
    "    omega = np.zeros((rows, cols))\n",
    "    omega[:2, :2] += np.array([[1, 0],\n",
    "                               [0, 1]])\n",
    "    \n",
    "    xi = np.zeros((rows,))\n",
    "    xi[:2] += world_size/2\n",
    "    \n",
    "    return omega, xi\n",
    "    "
   ]
  },
  {
   "cell_type": "code",
   "execution_count": 3,
   "metadata": {},
   "outputs": [
    {
     "data": {
      "text/plain": [
       "<matplotlib.axes._subplots.AxesSubplot at 0x7fa612b63860>"
      ]
     },
     "execution_count": 3,
     "metadata": {},
     "output_type": "execute_result"
    },
    {
     "data": {
      "image/png": "[encoded data removed]",
      "text/plain": [
       "<Figure size 720x504 with 2 Axes>"
      ]
     },
     "metadata": {
      "needs_background": "light"
     },
     "output_type": "display_data"
    }
   ],
   "source": [
    "N_test = 5\n",
    "num_landmarks_test = 2\n",
    "small_world = 10\n",
    "\n",
    "# initialize the constraints\n",
    "initial_omega, initial_xi = initialize_constraints(N_test, num_landmarks_test, small_world)\n",
    "\n",
    "plt.rcParams[\"figure.figsize\"] = (10,7)\n",
    "sns.heatmap(DataFrame(initial_omega), cmap='Blues', annot=True, linewidths=.5)"
   ]
  },
  {
   "cell_type": "code",
   "execution_count": 4,
   "metadata": {},
   "outputs": [
    {
     "data": {
      "text/plain": [
       "<matplotlib.axes._subplots.AxesSubplot at 0x7fa610773550>"
      ]
     },
     "execution_count": 4,
     "metadata": {},
     "output_type": "execute_result"
    },
    {
     "data": {
      "image/png": "[encoded data removed]",
      "text/plain": [
       "<Figure size 72x504 with 2 Axes>"
      ]
     },
     "metadata": {
      "needs_background": "light"
     },
     "output_type": "display_data"
    }
   ],
   "source": [
    "plt.rcParams[\"figure.figsize\"] = (1,7)\n",
    "sns.heatmap(DataFrame(initial_xi), cmap='Oranges', annot=True, linewidths=.5)"
   ]
  },
  {
   "cell_type": "code",
   "execution_count": 43,
   "metadata": {},
   "outputs": [
    {
     "data": {
      "text/plain": [
       "[[0, -47.504558435235474, 46.951147361935305],\n",
       " [1, 44.42369419256923, 25.69846303788409],\n",
       " [2, 43.613801664892456, 27.433554103391657],\n",
       " [3, 12.56013623388057, 23.833238975741015],\n",
       " [4, 40.07686306651211, 18.39580068175173]]"
      ]
     },
     "execution_count": 43,
     "metadata": {},
     "output_type": "execute_result"
    }
   ],
   "source": [
    "data[0][0]"
   ]
  },
  {
   "cell_type": "code",
   "execution_count": 5,
   "metadata": {},
   "outputs": [],
   "source": [
    "def slam(data, N, num_landmarks, world_size, motion_noise, measurement_noise):\n",
    "    \n",
    "    omega, xi = initialize_constraints(N, num_landmarks, world_size)\n",
    "    \n",
    "    for i in range(len(data)):\n",
    "        measurements = data[i][0]\n",
    "        motion = data[i][1]\n",
    "       \n",
    "        for ms in measurements:\n",
    "            landmark_idx = ms[0]\n",
    "            x = ms[1]\n",
    "            y = ms[2]\n",
    "            \n",
    "            # add/substract noise for all X_Pos and X_Landmark values\n",
    "            \n",
    "            # X-L = +?\n",
    "            # X_pos is found at each 2 cells\n",
    "            omega[2*i, 2*i] += 1 / measurement_noise\n",
    "            # X_LandMarks can ben found at 2*Nstep idx, then each 2 cells\n",
    "            omega[2*i, 2*N + 2*landmark_idx] += -1 / measurement_noise        \n",
    "            \n",
    "            # L-X = -?\n",
    "            # Landmark according to the \n",
    "            omega[2*N + 2*landmark_idx, 2*i] += -1 / measurement_noise\n",
    "            # Landmark according to itself\n",
    "            omega[2*N + 2*landmark_idx, 2*N + 2*landmark_idx] += 1 / measurement_noise\n",
    "            \n",
    "            # update the xi value for the X_Pos & Lx\n",
    "            xi[2*i] += -x / measurement_noise\n",
    "            xi[2*N + 2*landmark_idx] += x / measurement_noise\n",
    "            \n",
    "            \n",
    "            # SAME THINGS FOR Y_Pos and Ly (just add +1 on indices)\n",
    "            \n",
    "            omega[2*i + 1, 2*i + 1] += 1 / measurement_noise\n",
    "            omega[2*i + 1, 2*N + 2*landmark_idx + 1] += -1 / measurement_noise\n",
    "            omega[2*N + 2*landmark_idx + 1, 2*i + 1] += -1 / measurement_noise\n",
    "            omega[2*N + 2*landmark_idx + 1, 2*N + 2*landmark_idx + 1] += 1 / measurement_noise\n",
    "\n",
    "            xi[2*i + 1] += -y / measurement_noise\n",
    "            xi[2*N + 2*landmark_idx + 1] += y / measurement_noise\n",
    "            \n",
    "        \n",
    "        # EXACTE SAME THINGS FOR MOTION : BUT between X and X+2 ; Y and Y+2 which is the same things as X+1 and X+3\n",
    "        dx, dy = motion[0], motion[1]\n",
    "        omega[2*i, 2*i] += 1 / motion_noise\n",
    "        omega[2*i, 2*i + 2] += -1 / motion_noise\n",
    "        omega[2*i + 2, 2*i] += -1 / motion_noise\n",
    "        omega[2*i + 2, 2*i + 2] += 1 / motion_noise\n",
    "\n",
    "        omega[2*i + 1, 2*i + 1] += 1 / motion_noise\n",
    "        omega[2*i + 1, 2*i + 3] += -1 / motion_noise\n",
    "        omega[2*i + 3, 2*i + 1] += -1 / motion_noise\n",
    "        omega[2*i + 3, 2*i + 3] += 1 / motion_noise\n",
    "        \n",
    "        xi[2*i] += -dx / motion_noise\n",
    "        xi[2*i + 2] += dx / motion_noise\n",
    "        xi[2*i + 1] += -dy / motion_noise\n",
    "        xi[2*i + 3] += dy / motion_noise\n",
    "        \n",
    "    mu = np.dot(np.linalg.inv(omega), xi)\n",
    "    \n",
    "    return mu # return `mu`\n"
   ]
  },
  {
   "cell_type": "code",
   "execution_count": 34,
   "metadata": {},
   "outputs": [],
   "source": [
    "def get_poses_landmarks(mu, N):\n",
    "    \"\"\"\n",
    "    This function iterate over the mu matrix N times\n",
    "    to get the x and y position of the robot.\n",
    "    Then iterate over the rest of the list to get\n",
    "    all the Landmarks positions.\n",
    "    \n",
    "    Example:\n",
    "    For N=20 steps time\n",
    "    We iterate from 0-19 to get all the positions\n",
    "    of the robot\n",
    "    \n",
    "    Then From 20 to the rest to get the Landmark positions\n",
    "    \"\"\"\n",
    "    poses = []\n",
    "    for i in range(N):\n",
    "        # get all the (x, y) poses\n",
    "        poses.append((mu[2*i].item(), mu[2*i+1].item()))\n",
    "\n",
    "    landmarks = []\n",
    "    for i in range(num_landmarks):\n",
    "        landmarks.append((mu[2*(N+i)].item(), mu[2*(N+i)+1].item()))\n",
    "\n",
    "    return poses, landmarks\n"
   ]
  },
  {
   "cell_type": "code",
   "execution_count": 7,
   "metadata": {},
   "outputs": [],
   "source": [
    "def print_all(poses, landmarks):\n",
    "    print('\\n')\n",
    "    print('Estimated Poses:')\n",
    "    for i in range(len(poses)):\n",
    "        print('['+', '.join('%.3f'%p for p in poses[i])+']')\n",
    "    print('\\n')\n",
    "    print('Estimated Landmarks:')\n",
    "    for i in range(len(landmarks)):\n",
    "        print('['+', '.join('%.3f'%l for l in landmarks[i])+']')\n"
   ]
  },
  {
   "cell_type": "code",
   "execution_count": 8,
   "metadata": {},
   "outputs": [
    {
     "name": "stdout",
     "output_type": "stream",
     "text": [
      " \n",
      "Landmarks:  [[2, 96], [93, 75], [95, 76], [64, 73], [91, 70]]\n",
      "Robot: [x=72.60208 y=79.85855]\n"
     ]
    }
   ],
   "source": [
    "# World Params\n",
    "num_landmarks      = 5        # number of landmarks\n",
    "N                  = 20       # time steps\n",
    "world_size         = 100.0    # size of world (square)\n",
    "\n",
    "# robot parameters\n",
    "measurement_range  = 50.0     # range at which we can sense landmarks\n",
    "motion_noise       = 2.0      # noise in robot motion\n",
    "measurement_noise  = 2.0      # noise in the measurements\n",
    "distance           = 20.0     # distance by which robot (intends to) move each iteratation \n",
    "\n",
    "data = make_data(N, num_landmarks, world_size, measurement_range, motion_noise, measurement_noise, distance)"
   ]
  },
  {
   "cell_type": "code",
   "execution_count": 9,
   "metadata": {},
   "outputs": [
    {
     "name": "stdout",
     "output_type": "stream",
     "text": [
      "\n",
      "\n",
      "Estimated Poses:\n",
      "[50.000, 50.000]\n",
      "[62.856, 63.875]\n",
      "[76.730, 76.953]\n",
      "[92.421, 90.632]\n",
      "[73.529, 93.619]\n",
      "[54.079, 94.239]\n",
      "[33.393, 95.659]\n",
      "[11.502, 98.547]\n",
      "[24.490, 83.945]\n",
      "[36.807, 67.983]\n",
      "[50.189, 51.808]\n",
      "[64.051, 38.349]\n",
      "[77.329, 24.977]\n",
      "[90.872, 11.280]\n",
      "[73.320, 2.089]\n",
      "[78.671, 22.099]\n",
      "[84.023, 42.109]\n",
      "[88.347, 61.041]\n",
      "[93.908, 81.413]\n",
      "[73.922, 80.656]\n",
      "\n",
      "\n",
      "Estimated Landmarks:\n",
      "[2.269, 96.903]\n",
      "[93.235, 75.123]\n",
      "[94.793, 76.790]\n",
      "[63.883, 73.388]\n",
      "[90.500, 70.147]\n"
     ]
    }
   ],
   "source": [
    "mu = slam(data, N, num_landmarks, world_size, motion_noise, measurement_noise)\n",
    "\n",
    "if(mu is not None):\n",
    "    poses, landmarks = get_poses_landmarks(mu, N)\n",
    "    print_all(poses, landmarks)\n",
    "    "
   ]
  },
  {
   "cell_type": "code",
   "execution_count": 11,
   "metadata": {},
   "outputs": [
    {
     "name": "stdout",
     "output_type": "stream",
     "text": [
      "Last pose:  (60.86100011526081, 39.355578252838484)\n"
     ]
    },
    {
     "data": {
      "image/png": "[encoded data removed]",
      "text/plain": [
       "<Figure size 1440x1440 with 1 Axes>"
      ]
     },
     "metadata": {},
     "output_type": "display_data"
    }
   ],
   "source": [
    "plt.rcParams[\"figure.figsize\"] = (20,20)\n",
    "\n",
    "# check if poses has been created\n",
    "if 'poses' in locals():\n",
    "    # print out the last pose\n",
    "    print('Last pose: ', poses[-1])\n",
    "    # display the last position of the robot *and* the landmark positions\n",
    "    display_world(int(world_size), poses[-1], landmarks)"
   ]
  },
  {
   "cell_type": "markdown",
   "metadata": {},
   "source": [
    "Once We have our matrices, we have to fill both OMEGA AND XI by doing:\n",
    "\n",
    "`robot_positions = [[x0, y0]]`\n",
    "\n",
    "> MOVE\n",
    "\n",
    "Say we have a mvt from (xy0) to (xy1) by after 5 rotation wheels   \n",
    "We know xy1 is 5 rotation wheels far from xy0  \n",
    "So We populate OMEGA and Xi  \n",
    "We compute the Mu matrix to get the position xy1  \n",
    "We append the position xy1 in our array  \n",
    "`robot_positions = [ [x0, y0], [x1, y1] ]`\n",
    "\n",
    "THEN WE SENSE FROM x1y1 Position  \n",
    "We detect a landmark 8m away  \n",
    "We populate OMEGA and Xi  \n",
    "\n",
    "THEN WE MOVE  \n",
    "And so one  "
   ]
  }
 ],
 "metadata": {
  "kernelspec": {
   "display_name": "Python 3",
   "language": "python",
   "name": "python3"
  },
  "language_info": {
   "codemirror_mode": {
    "name": "ipython",
    "version": 3
   },
   "file_extension": ".py",
   "mimetype": "text/x-python",
   "name": "python",
   "nbconvert_exporter": "python",
   "pygments_lexer": "ipython3",
   "version": "3.6.7"
  }
 },
 "nbformat": 4,
 "nbformat_minor": 2
}
